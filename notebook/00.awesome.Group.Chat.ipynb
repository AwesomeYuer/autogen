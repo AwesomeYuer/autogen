{
 "cells": [
  {
   "cell_type": "code",
   "execution_count": 1,
   "metadata": {},
   "outputs": [
    {
     "name": "stderr",
     "output_type": "stream",
     "text": [
      "/home/awesomeyuer/miniconda3/envs/autogen-py311-env/lib/python3.11/site-packages/tqdm/auto.py:21: TqdmWarning: IProgress not found. Please update jupyter and ipywidgets. See https://ipywidgets.readthedocs.io/en/stable/user_install.html\n",
      "  from .autonotebook import tqdm as notebook_tqdm\n"
     ]
    }
   ],
   "source": [
    "import autogen\n",
    "\n",
    "config_list = autogen.config_list_from_json(\n",
    "    \"OAI_CONFIG_LIST\",\n",
    "    filter_dict={\n",
    "        # \"model\": [\"gpt4\", \"gpt-4-32k\", \"gpt-4-32k-0314\", \"gpt-4-32k-v0314\"],\n",
    "        \"model\": [\"gpt-4\"]\n",
    "    },\n",
    ")\n",
    "\n",
    "llm_config={\n",
    "    \"request_timeout\": 600,\n",
    "    \"seed\": 42,\n",
    "    \"config_list\": config_list,\n",
    "    \"temperature\": 0,\n",
    "}"
   ]
  },
  {
   "cell_type": "code",
   "execution_count": 2,
   "metadata": {},
   "outputs": [],
   "source": [
    "# create an AssistantAgent instance named \"assistant\"\n",
    "assistant = autogen.AssistantAgent(\n",
    "    name=\"assistant\",\n",
    "    llm_config=llm_config,\n",
    ")\n",
    "# create a UserProxyAgent instance named \"user_proxy\"\n",
    "user_proxy = autogen.UserProxyAgent(\n",
    "    name=\"user_proxy\",\n",
    "    # human_input_mode=\"TERMINATE\",\n",
    "    human_input_mode=\"NEVER\",\n",
    "    max_consecutive_auto_reply=10,\n",
    "    is_termination_msg=lambda x: x.get(\"content\", \"\").rstrip().endswith(\"TERMINATE\"),\n",
    "    llm_config=llm_config,\n",
    "    code_execution_config={\"work_dir\": \"00_awesome_poc\"},\n",
    "    system_message=\"\"\"Reply TERMINATE if the task has been solved at full satisfaction.\n",
    "Otherwise, reply CONTINUE, or the reason why the task is not solved yet.\"\"\"\n",
    ")"
   ]
  },
  {
   "cell_type": "code",
   "execution_count": 3,
   "metadata": {},
   "outputs": [],
   "source": [
    "urlBaseAddress = \"http://192.168.0.103:5000/SamplesData\"\n",
    "\n",
    "ordersDataUrl=f\"{urlBaseAddress}/Orders.csv\"\n",
    "\n",
    "customersDataUrl=f\"{urlBaseAddress}/Customers.csv\"\n",
    "\n",
    "customersGroupsDataUrl=f\"{urlBaseAddress}/CustomersGroups.csv\"\n",
    "\n",
    "productsDataUrl=f\"{urlBaseAddress}/Products.csv\"\n",
    "\n",
    "activitiesDataUrl=f\"{urlBaseAddress}/Activities.csv\""
   ]
  },
  {
   "cell_type": "code",
   "execution_count": null,
   "metadata": {},
   "outputs": [],
   "source": [
    "\n",
    "user_proxy.initiate_chat(\n",
    "    assistant,\n",
    "    # message=\"\"\"Show me the YTD gain of 10 largest technology companies as of today.\"\"\",\n",
    "    # message=\"\"\"展示今天截至目前为止，10家最大的科技公司的年初至今收益。\"\"\",\n",
    "\n",
    "    # succeed\n",
    "    # message=f\"\"\"\n",
    "    # 请分析订单数据文件: \"{url}\"(没有\"quantity\"字段) , 然后展示销量最多的商品的名称, 即: \"Product\"\n",
    "    # \"\"\",\n",
    "\n",
    "    # succeed\n",
    "    # message=f\"\"\"\n",
    "    # 请分析订单数据文件: \"{url}\", 获取最受欢迎的商品\n",
    "    # \"\"\",\n",
    "\n",
    "    # succeed\n",
    "    message=f\"\"\"\n",
    "    请分析订单数据文件: \"{ordersDataUrl}\", 获取最受欢迎的商品\n",
    "    \"\"\",\n",
    "\n",
    "    # succeed\n",
    "    #  message=f\"\"\"\n",
    "    # 请分析订单数据文件: \"{url}\", 获取最不受欢迎的商品\n",
    "    # \"\"\",\n",
    "\n",
    "    # message=f\"\"\"\n",
    "    # 请分析订单数据文件: \"{url}\"(没有\"quantity\"字段) , 哪个商品该促销?\n",
    "    # \"\"\",\n",
    "\n",
    "    # failed\n",
    "    # message=f\"\"\"\n",
    "    # 请分析订单数据文件: \"{url}\"(没有\"quantity\"字段) , 哪个商品(Product)该停产?\n",
    "    # \"\"\",\n",
    "\n",
    "    # succeed 订单最少的\n",
    "    # message=f\"\"\"\n",
    "    # 请分析订单数据文件: \"{url}\"(没有\"quantity\"字段) , 哪个商品(Product)该打折促销?\n",
    "    # \"\"\",\n",
    "\n",
    "    # message=f\"\"\"\n",
    "    # 请分析订单数据文件: \"{url}\"(没有\"quantity\"字段) , 哪个昂贵的商品(Product)该打折促销?\n",
    "    # \"\"\",\n",
    "\n",
    "    # message=f\"\"\"请分析订单数据文件: \"{url}\"(没有\"quantity\"字段) , 哪个昂贵的商品(Product)该打折促销?\"\"\",\n",
    ")"
   ]
  },
  {
   "cell_type": "code",
   "execution_count": 5,
   "metadata": {},
   "outputs": [
    {
     "ename": "NameError",
     "evalue": "name 'url' is not defined",
     "output_type": "error",
     "traceback": [
      "\u001b[0;31m---------------------------------------------------------------------------\u001b[0m",
      "\u001b[0;31mNameError\u001b[0m                                 Traceback (most recent call last)",
      "\u001b[1;32m/mnt/d/MyGitHub/autogen/notebook/00.awesome.Group.Chat.ipynb Cell 5\u001b[0m line \u001b[0;36m2\n\u001b[1;32m      <a href='vscode-notebook-cell://wsl%2Bubuntu-22.04.2-lts-2023-06-27/mnt/d/MyGitHub/autogen/notebook/00.awesome.Group.Chat.ipynb#W4sdnNjb2RlLXJlbW90ZQ%3D%3D?line=0'>1</a>\u001b[0m groupchat \u001b[39m=\u001b[39m autogen\u001b[39m.\u001b[39mGroupChat(\n\u001b[1;32m      <a href='vscode-notebook-cell://wsl%2Bubuntu-22.04.2-lts-2023-06-27/mnt/d/MyGitHub/autogen/notebook/00.awesome.Group.Chat.ipynb#W4sdnNjb2RlLXJlbW90ZQ%3D%3D?line=1'>2</a>\u001b[0m     agents\u001b[39m=\u001b[39m[\n\u001b[1;32m      <a href='vscode-notebook-cell://wsl%2Bubuntu-22.04.2-lts-2023-06-27/mnt/d/MyGitHub/autogen/notebook/00.awesome.Group.Chat.ipynb#W4sdnNjb2RlLXJlbW90ZQ%3D%3D?line=2'>3</a>\u001b[0m     user_proxy, \n\u001b[1;32m      <a href='vscode-notebook-cell://wsl%2Bubuntu-22.04.2-lts-2023-06-27/mnt/d/MyGitHub/autogen/notebook/00.awesome.Group.Chat.ipynb#W4sdnNjb2RlLXJlbW90ZQ%3D%3D?line=3'>4</a>\u001b[0m     assistant\n\u001b[1;32m      <a href='vscode-notebook-cell://wsl%2Bubuntu-22.04.2-lts-2023-06-27/mnt/d/MyGitHub/autogen/notebook/00.awesome.Group.Chat.ipynb#W4sdnNjb2RlLXJlbW90ZQ%3D%3D?line=4'>5</a>\u001b[0m     ], \n\u001b[1;32m      <a href='vscode-notebook-cell://wsl%2Bubuntu-22.04.2-lts-2023-06-27/mnt/d/MyGitHub/autogen/notebook/00.awesome.Group.Chat.ipynb#W4sdnNjb2RlLXJlbW90ZQ%3D%3D?line=5'>6</a>\u001b[0m     messages\u001b[39m=\u001b[39m[], max_round\u001b[39m=\u001b[39m\u001b[39m20\u001b[39m)\n\u001b[1;32m      <a href='vscode-notebook-cell://wsl%2Bubuntu-22.04.2-lts-2023-06-27/mnt/d/MyGitHub/autogen/notebook/00.awesome.Group.Chat.ipynb#W4sdnNjb2RlLXJlbW90ZQ%3D%3D?line=7'>8</a>\u001b[0m manager \u001b[39m=\u001b[39m autogen\u001b[39m.\u001b[39mGroupChatManager(groupchat\u001b[39m=\u001b[39mgroupchat, llm_config\u001b[39m=\u001b[39mllm_config)\n\u001b[1;32m     <a href='vscode-notebook-cell://wsl%2Bubuntu-22.04.2-lts-2023-06-27/mnt/d/MyGitHub/autogen/notebook/00.awesome.Group.Chat.ipynb#W4sdnNjb2RlLXJlbW90ZQ%3D%3D?line=9'>10</a>\u001b[0m user_proxy\u001b[39m.\u001b[39minitiate_chat(\n\u001b[1;32m     <a href='vscode-notebook-cell://wsl%2Bubuntu-22.04.2-lts-2023-06-27/mnt/d/MyGitHub/autogen/notebook/00.awesome.Group.Chat.ipynb#W4sdnNjb2RlLXJlbW90ZQ%3D%3D?line=10'>11</a>\u001b[0m     manager,\n\u001b[1;32m     <a href='vscode-notebook-cell://wsl%2Bubuntu-22.04.2-lts-2023-06-27/mnt/d/MyGitHub/autogen/notebook/00.awesome.Group.Chat.ipynb#W4sdnNjb2RlLXJlbW90ZQ%3D%3D?line=11'>12</a>\u001b[0m \u001b[39m#     message=\"\"\"\u001b[39;00m\n\u001b[1;32m     <a href='vscode-notebook-cell://wsl%2Bubuntu-22.04.2-lts-2023-06-27/mnt/d/MyGitHub/autogen/notebook/00.awesome.Group.Chat.ipynb#W4sdnNjb2RlLXJlbW90ZQ%3D%3D?line=12'>13</a>\u001b[0m \u001b[39m# 获取最受欢迎的商品，然后查询该商品的库存量\u001b[39;00m\n\u001b[1;32m     <a href='vscode-notebook-cell://wsl%2Bubuntu-22.04.2-lts-2023-06-27/mnt/d/MyGitHub/autogen/notebook/00.awesome.Group.Chat.ipynb#W4sdnNjb2RlLXJlbW90ZQ%3D%3D?line=13'>14</a>\u001b[0m \u001b[39m# \"\"\",\u001b[39;00m\n\u001b[1;32m     <a href='vscode-notebook-cell://wsl%2Bubuntu-22.04.2-lts-2023-06-27/mnt/d/MyGitHub/autogen/notebook/00.awesome.Group.Chat.ipynb#W4sdnNjb2RlLXJlbW90ZQ%3D%3D?line=14'>15</a>\u001b[0m \n\u001b[1;32m     <a href='vscode-notebook-cell://wsl%2Bubuntu-22.04.2-lts-2023-06-27/mnt/d/MyGitHub/autogen/notebook/00.awesome.Group.Chat.ipynb#W4sdnNjb2RlLXJlbW90ZQ%3D%3D?line=15'>16</a>\u001b[0m \u001b[39m#     message=\"\"\"\u001b[39;00m\n\u001b[1;32m     <a href='vscode-notebook-cell://wsl%2Bubuntu-22.04.2-lts-2023-06-27/mnt/d/MyGitHub/autogen/notebook/00.awesome.Group.Chat.ipynb#W4sdnNjb2RlLXJlbW90ZQ%3D%3D?line=16'>17</a>\u001b[0m \u001b[39m# 获取最受欢迎的商品\u001b[39;00m\n\u001b[1;32m     <a href='vscode-notebook-cell://wsl%2Bubuntu-22.04.2-lts-2023-06-27/mnt/d/MyGitHub/autogen/notebook/00.awesome.Group.Chat.ipynb#W4sdnNjb2RlLXJlbW90ZQ%3D%3D?line=17'>18</a>\u001b[0m \u001b[39m# \"\"\",\u001b[39;00m\n\u001b[1;32m     <a href='vscode-notebook-cell://wsl%2Bubuntu-22.04.2-lts-2023-06-27/mnt/d/MyGitHub/autogen/notebook/00.awesome.Group.Chat.ipynb#W4sdnNjb2RlLXJlbW90ZQ%3D%3D?line=18'>19</a>\u001b[0m \n\u001b[1;32m     <a href='vscode-notebook-cell://wsl%2Bubuntu-22.04.2-lts-2023-06-27/mnt/d/MyGitHub/autogen/notebook/00.awesome.Group.Chat.ipynb#W4sdnNjb2RlLXJlbW90ZQ%3D%3D?line=19'>20</a>\u001b[0m message\u001b[39m=\u001b[39m\u001b[39mf\u001b[39m\u001b[39m\"\"\"\u001b[39m\n\u001b[0;32m---> <a href='vscode-notebook-cell://wsl%2Bubuntu-22.04.2-lts-2023-06-27/mnt/d/MyGitHub/autogen/notebook/00.awesome.Group.Chat.ipynb#W4sdnNjb2RlLXJlbW90ZQ%3D%3D?line=20'>21</a>\u001b[0m \u001b[39m请分析订单数据文件: \u001b[39m\u001b[39m\"\u001b[39m\u001b[39m{\u001b[39;00murl\u001b[39m}\u001b[39;00m\u001b[39m\"\u001b[39m\u001b[39m, 获取最受欢迎的商品\u001b[39m\n\u001b[1;32m     <a href='vscode-notebook-cell://wsl%2Bubuntu-22.04.2-lts-2023-06-27/mnt/d/MyGitHub/autogen/notebook/00.awesome.Group.Chat.ipynb#W4sdnNjb2RlLXJlbW90ZQ%3D%3D?line=21'>22</a>\u001b[0m \u001b[39m\"\"\"\u001b[39m,\n\u001b[1;32m     <a href='vscode-notebook-cell://wsl%2Bubuntu-22.04.2-lts-2023-06-27/mnt/d/MyGitHub/autogen/notebook/00.awesome.Group.Chat.ipynb#W4sdnNjb2RlLXJlbW90ZQ%3D%3D?line=22'>23</a>\u001b[0m )\n",
      "\u001b[0;31mNameError\u001b[0m: name 'url' is not defined"
     ]
    }
   ],
   "source": [
    "groupchat = autogen.GroupChat(\n",
    "    agents=[\n",
    "    user_proxy, \n",
    "    assistant\n",
    "    ], \n",
    "    messages=[], max_round=20)\n",
    "    \n",
    "manager = autogen.GroupChatManager(groupchat=groupchat, llm_config=llm_config)\n",
    "\n",
    "user_proxy.initiate_chat(\n",
    "    manager,\n",
    "#     message=\"\"\"\n",
    "# 获取最受欢迎的商品，然后查询该商品的库存量\n",
    "# \"\"\",\n",
    "\n",
    "#     message=\"\"\"\n",
    "# 获取最受欢迎的商品\n",
    "# \"\"\",\n",
    "\n",
    "message=f\"\"\"\n",
    "请分析订单数据文件: \"{ordersDataUrl}\", 获取最受欢迎的商品\n",
    "\"\"\",\n",
    ")"
   ]
  }
 ],
 "metadata": {
  "kernelspec": {
   "display_name": "autogen-py311-env",
   "language": "python",
   "name": "python3"
  },
  "language_info": {
   "codemirror_mode": {
    "name": "ipython",
    "version": 3
   },
   "file_extension": ".py",
   "mimetype": "text/x-python",
   "name": "python",
   "nbconvert_exporter": "python",
   "pygments_lexer": "ipython3",
   "version": "3.11.0"
  }
 },
 "nbformat": 4,
 "nbformat_minor": 2
}
