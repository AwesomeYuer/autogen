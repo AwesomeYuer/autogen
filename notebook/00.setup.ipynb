{
 "cells": [
  {
   "cell_type": "code",
   "execution_count": null,
   "metadata": {},
   "outputs": [],
   "source": [
    "! conda create -n autogen-py311-env python==3.11\n",
    "\n",
    "! conda activate autogen-py311-env"
   ]
  }
 ],
 "metadata": {
  "language_info": {
   "name": "python"
  }
 },
 "nbformat": 4,
 "nbformat_minor": 2
}
