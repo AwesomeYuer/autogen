{
 "cells": [
  {
   "cell_type": "code",
   "execution_count": null,
   "metadata": {},
   "outputs": [],
   "source": [
    "! conda create -n autogen-py311-env python==3.11\n",
    "\n",
    "! conda activate autogen-py311-env\n"
   ]
  },
  {
   "cell_type": "code",
   "execution_count": 1,
   "metadata": {},
   "outputs": [
    {
     "name": "stdout",
     "output_type": "stream",
     "text": [
      "Collecting pydoc-markdown\n",
      "  Downloading pydoc_markdown-4.8.2-py3-none-any.whl.metadata (5.9 kB)\n",
      "Requirement already satisfied: PyYAML<7.0,>=5.0 in /home/awesomeyuer/miniconda3/envs/autogen-py311-env/lib/python3.11/site-packages (from pydoc-markdown) (6.0.1)\n",
      "Requirement already satisfied: click<9.0,>=7.1 in /home/awesomeyuer/miniconda3/envs/autogen-py311-env/lib/python3.11/site-packages (from pydoc-markdown) (8.1.7)\n",
      "Collecting databind.core<5.0.0,>=4.4.0 (from pydoc-markdown)\n",
      "  Downloading databind.core-4.4.1-py3-none-any.whl.metadata (1.4 kB)\n",
      "Collecting databind.json<5.0.0,>=4.4.0 (from pydoc-markdown)\n",
      "  Downloading databind.json-4.4.1-py3-none-any.whl.metadata (4.4 kB)\n",
      "Collecting docspec<3.0.0,>=2.2.1 (from pydoc-markdown)\n",
      "  Downloading docspec-2.2.1-py3-none-any.whl.metadata (1.5 kB)\n",
      "Collecting docspec-python<3.0.0,>=2.2.1 (from pydoc-markdown)\n",
      "  Downloading docspec_python-2.2.1-py3-none-any.whl.metadata (1.5 kB)\n",
      "Collecting docstring-parser<0.12,>=0.11 (from pydoc-markdown)\n",
      "  Downloading docstring_parser-0.11.tar.gz (22 kB)\n",
      "  Installing build dependencies ... \u001b[?25ldone\n",
      "\u001b[?25h  Getting requirements to build wheel ... \u001b[?25ldone\n",
      "\u001b[?25h  Preparing metadata (pyproject.toml) ... \u001b[?25ldone\n",
      "\u001b[?25hRequirement already satisfied: jinja2<4.0.0,>=3.0.0 in /home/awesomeyuer/miniconda3/envs/autogen-py311-env/lib/python3.11/site-packages (from pydoc-markdown) (3.1.2)\n",
      "Collecting nr.util<1.0.0,>=0.7.5 (from pydoc-markdown)\n",
      "  Downloading nr.util-0.8.12-py3-none-any.whl (90 kB)\n",
      "\u001b[2K     \u001b[90m━━━━━━━━━━━━━━━━━━━━━━━━━━━━━━━━━━━━━━━\u001b[0m \u001b[32m90.3/90.3 kB\u001b[0m \u001b[31m549.1 kB/s\u001b[0m eta \u001b[36m0:00:00\u001b[0ma \u001b[36m0:00:01\u001b[0m\n",
      "\u001b[?25hRequirement already satisfied: requests<3.0.0,>=2.23.0 in /home/awesomeyuer/miniconda3/envs/autogen-py311-env/lib/python3.11/site-packages (from pydoc-markdown) (2.31.0)\n",
      "Collecting tomli<3.0.0,>=2.0.0 (from pydoc-markdown)\n",
      "  Downloading tomli-2.0.1-py3-none-any.whl (12 kB)\n",
      "Collecting tomli_w<2.0.0,>=1.0.0 (from pydoc-markdown)\n",
      "  Downloading tomli_w-1.0.0-py3-none-any.whl (6.0 kB)\n",
      "Collecting watchdog (from pydoc-markdown)\n",
      "  Downloading watchdog-3.0.0-py3-none-manylinux2014_x86_64.whl (82 kB)\n",
      "\u001b[2K     \u001b[90m━━━━━━━━━━━━━━━━━━━━━━━━━━━━━━━━━━━━━━━\u001b[0m \u001b[32m82.1/82.1 kB\u001b[0m \u001b[31m735.3 kB/s\u001b[0m eta \u001b[36m0:00:00\u001b[0m00:01\u001b[0m00:01\u001b[0m\n",
      "\u001b[?25hCollecting yapf>=0.30.0 (from pydoc-markdown)\n",
      "  Downloading yapf-0.40.2-py3-none-any.whl.metadata (45 kB)\n",
      "\u001b[2K     \u001b[90m━━━━━━━━━━━━━━━━━━━━━━━━━━━━━━━━━━━━━━━\u001b[0m \u001b[32m45.4/45.4 kB\u001b[0m \u001b[31m784.4 kB/s\u001b[0m eta \u001b[36m0:00:00\u001b[0m \u001b[36m0:00:01\u001b[0m\n",
      "\u001b[?25hRequirement already satisfied: Deprecated<2.0.0,>=1.2.12 in /home/awesomeyuer/miniconda3/envs/autogen-py311-env/lib/python3.11/site-packages (from databind.core<5.0.0,>=4.4.0->pydoc-markdown) (1.2.14)\n",
      "Collecting nr-date<3.0.0,>=2.0.0 (from databind.core<5.0.0,>=4.4.0->pydoc-markdown)\n",
      "  Downloading nr_date-2.1.0-py3-none-any.whl.metadata (746 bytes)\n",
      "Collecting nr-stream<2.0.0,>=1.0.0 (from databind.core<5.0.0,>=4.4.0->pydoc-markdown)\n",
      "  Downloading nr_stream-1.1.5-py3-none-any.whl (10 kB)\n",
      "Collecting typeapi<3.0.0,>=2.0.1 (from databind.core<5.0.0,>=4.4.0->pydoc-markdown)\n",
      "  Downloading typeapi-2.1.1-py3-none-any.whl.metadata (5.3 kB)\n",
      "Collecting typing-extensions<4.7,>=3.10.0 (from databind.core<5.0.0,>=4.4.0->pydoc-markdown)\n",
      "  Downloading typing_extensions-4.6.3-py3-none-any.whl.metadata (2.8 kB)\n",
      "Collecting black<24.0.0,>=23.1.0 (from docspec-python<3.0.0,>=2.2.1->pydoc-markdown)\n",
      "  Downloading black-23.10.1-cp311-cp311-manylinux_2_17_x86_64.manylinux2014_x86_64.whl.metadata (66 kB)\n",
      "\u001b[2K     \u001b[90m━━━━━━━━━━━━━━━━━━━━━━━━━━━━━━━━━━━━━━━\u001b[0m \u001b[32m66.0/66.0 kB\u001b[0m \u001b[31m749.0 kB/s\u001b[0m eta \u001b[36m0:00:00\u001b[0ma \u001b[36m0:00:01\u001b[0m\n",
      "\u001b[?25hRequirement already satisfied: MarkupSafe>=2.0 in /home/awesomeyuer/miniconda3/envs/autogen-py311-env/lib/python3.11/site-packages (from jinja2<4.0.0,>=3.0.0->pydoc-markdown) (2.1.3)\n",
      "Requirement already satisfied: charset-normalizer<4,>=2 in /home/awesomeyuer/miniconda3/envs/autogen-py311-env/lib/python3.11/site-packages (from requests<3.0.0,>=2.23.0->pydoc-markdown) (3.3.1)\n",
      "Requirement already satisfied: idna<4,>=2.5 in /home/awesomeyuer/miniconda3/envs/autogen-py311-env/lib/python3.11/site-packages (from requests<3.0.0,>=2.23.0->pydoc-markdown) (3.4)\n",
      "Requirement already satisfied: urllib3<3,>=1.21.1 in /home/awesomeyuer/miniconda3/envs/autogen-py311-env/lib/python3.11/site-packages (from requests<3.0.0,>=2.23.0->pydoc-markdown) (1.26.18)\n",
      "Requirement already satisfied: certifi>=2017.4.17 in /home/awesomeyuer/miniconda3/envs/autogen-py311-env/lib/python3.11/site-packages (from requests<3.0.0,>=2.23.0->pydoc-markdown) (2023.7.22)\n",
      "Requirement already satisfied: importlib-metadata>=6.6.0 in /home/awesomeyuer/miniconda3/envs/autogen-py311-env/lib/python3.11/site-packages (from yapf>=0.30.0->pydoc-markdown) (6.8.0)\n",
      "Requirement already satisfied: platformdirs>=3.5.1 in /home/awesomeyuer/miniconda3/envs/autogen-py311-env/lib/python3.11/site-packages (from yapf>=0.30.0->pydoc-markdown) (3.11.0)\n",
      "Collecting mypy-extensions>=0.4.3 (from black<24.0.0,>=23.1.0->docspec-python<3.0.0,>=2.2.1->pydoc-markdown)\n",
      "  Downloading mypy_extensions-1.0.0-py3-none-any.whl (4.7 kB)\n",
      "Requirement already satisfied: packaging>=22.0 in /home/awesomeyuer/miniconda3/envs/autogen-py311-env/lib/python3.11/site-packages (from black<24.0.0,>=23.1.0->docspec-python<3.0.0,>=2.2.1->pydoc-markdown) (23.2)\n",
      "Collecting pathspec>=0.9.0 (from black<24.0.0,>=23.1.0->docspec-python<3.0.0,>=2.2.1->pydoc-markdown)\n",
      "  Downloading pathspec-0.11.2-py3-none-any.whl.metadata (19 kB)\n",
      "Requirement already satisfied: wrapt<2,>=1.10 in /home/awesomeyuer/miniconda3/envs/autogen-py311-env/lib/python3.11/site-packages (from Deprecated<2.0.0,>=1.2.12->databind.core<5.0.0,>=4.4.0->pydoc-markdown) (1.15.0)\n",
      "Requirement already satisfied: zipp>=0.5 in /home/awesomeyuer/miniconda3/envs/autogen-py311-env/lib/python3.11/site-packages (from importlib-metadata>=6.6.0->yapf>=0.30.0->pydoc-markdown) (3.17.0)\n",
      "Downloading pydoc_markdown-4.8.2-py3-none-any.whl (67 kB)\n",
      "\u001b[2K   \u001b[90m━━━━━━━━━━━━━━━━━━━━━━━━━━━━━━━━━━━━━━━━\u001b[0m \u001b[32m67.8/67.8 kB\u001b[0m \u001b[31m2.5 MB/s\u001b[0m eta \u001b[36m0:00:00\u001b[0m\n",
      "\u001b[?25hDownloading databind.core-4.4.1-py3-none-any.whl (31 kB)\n",
      "Downloading databind.json-4.4.1-py3-none-any.whl (19 kB)\n",
      "Downloading docspec-2.2.1-py3-none-any.whl (9.8 kB)\n",
      "Downloading docspec_python-2.2.1-py3-none-any.whl (16 kB)\n",
      "Downloading yapf-0.40.2-py3-none-any.whl (254 kB)\n",
      "\u001b[2K   \u001b[90m━━━━━━━━━━━━━━━━━━━━━━━━━━━━━━━━━━━━━━━\u001b[0m \u001b[32m254.7/254.7 kB\u001b[0m \u001b[31m862.8 kB/s\u001b[0m eta \u001b[36m0:00:00\u001b[0ma \u001b[36m0:00:01\u001b[0m\n",
      "\u001b[?25hDownloading black-23.10.1-cp311-cp311-manylinux_2_17_x86_64.manylinux2014_x86_64.whl (1.6 MB)\n",
      "\u001b[2K   \u001b[90m━━━━━━━━━━━━━━━━━━━━━━━━━━━━━━━━━━━━━━━━\u001b[0m \u001b[32m1.6/1.6 MB\u001b[0m \u001b[31m1.5 MB/s\u001b[0m eta \u001b[36m0:00:00\u001b[0m00:01\u001b[0m00:01\u001b[0m\n",
      "\u001b[?25hDownloading nr_date-2.1.0-py3-none-any.whl (10 kB)\n",
      "Downloading typeapi-2.1.1-py3-none-any.whl (24 kB)\n",
      "Downloading typing_extensions-4.6.3-py3-none-any.whl (31 kB)\n",
      "Downloading pathspec-0.11.2-py3-none-any.whl (29 kB)\n",
      "Building wheels for collected packages: docstring-parser\n",
      "  Building wheel for docstring-parser (pyproject.toml) ... \u001b[?25ldone\n",
      "\u001b[?25h  Created wheel for docstring-parser: filename=docstring_parser-0.11-py3-none-any.whl size=31515 sha256=6c43e8b67e9f0a054297ac807951a8bbad44ad7159e1c6cd78b71eb011db1a07\n",
      "  Stored in directory: /home/awesomeyuer/.cache/pip/wheels/0f/f9/78/1186f8bf3425dbd3fb3fa32beee828876c792f49eb2554e888\n",
      "Successfully built docstring-parser\n",
      "Installing collected packages: watchdog, typing-extensions, tomli_w, tomli, pathspec, nr-stream, nr-date, mypy-extensions, docstring-parser, yapf, typeapi, nr.util, black, databind.core, databind.json, docspec, docspec-python, pydoc-markdown\n",
      "  Attempting uninstall: typing-extensions\n",
      "    Found existing installation: typing_extensions 4.8.0\n",
      "    Uninstalling typing_extensions-4.8.0:\n",
      "      Successfully uninstalled typing_extensions-4.8.0\n",
      "\u001b[31mERROR: pip's dependency resolver does not currently take into account all the packages that are installed. This behaviour is the source of the following dependency conflicts.\n",
      "fastapi 0.104.0 requires typing-extensions>=4.8.0, but you have typing-extensions 4.6.3 which is incompatible.\u001b[0m\u001b[31m\n",
      "\u001b[0mSuccessfully installed black-23.10.1 databind.core-4.4.1 databind.json-4.4.1 docspec-2.2.1 docspec-python-2.2.1 docstring-parser-0.11 mypy-extensions-1.0.0 nr-date-2.1.0 nr-stream-1.1.5 nr.util-0.8.12 pathspec-0.11.2 pydoc-markdown-4.8.2 tomli-2.0.1 tomli_w-1.0.0 typeapi-2.1.1 typing-extensions-4.6.3 watchdog-3.0.0 yapf-0.40.2\n"
     ]
    }
   ],
   "source": [
    "# 临时切换环境生成 reference\n",
    "#! conda activate misc-py311-env\n",
    "\n",
    "! python -m pip install pydoc-markdown\n",
    "\n",
    "! cd website\n",
    "\n",
    "! pydoc-markdown\n"
   ]
  },
  {
   "cell_type": "code",
   "execution_count": 2,
   "metadata": {},
   "outputs": [
    {
     "name": "stdout",
     "output_type": "stream",
     "text": [
      "Requirement already satisfied: typing-extensions in /home/awesomeyuer/miniconda3/envs/autogen-py311-env/lib/python3.11/site-packages (4.6.3)\n",
      "Collecting typing-extensions\n",
      "  Downloading typing_extensions-4.8.0-py3-none-any.whl.metadata (3.0 kB)\n",
      "Downloading typing_extensions-4.8.0-py3-none-any.whl (31 kB)\n",
      "Installing collected packages: typing-extensions\n",
      "  Attempting uninstall: typing-extensions\n",
      "    Found existing installation: typing_extensions 4.6.3\n",
      "    Uninstalling typing_extensions-4.6.3:\n",
      "      Successfully uninstalled typing_extensions-4.6.3\n",
      "\u001b[31mERROR: pip's dependency resolver does not currently take into account all the packages that are installed. This behaviour is the source of the following dependency conflicts.\n",
      "databind-core 4.4.1 requires typing-extensions<4.7,>=3.10.0, but you have typing-extensions 4.8.0 which is incompatible.\n",
      "databind-json 4.4.1 requires typing-extensions<4.7,>=3.10.0, but you have typing-extensions 4.8.0 which is incompatible.\u001b[0m\u001b[31m\n",
      "\u001b[0mSuccessfully installed typing-extensions-4.8.0\n",
      "Note: you may need to restart the kernel to use updated packages.\n"
     ]
    }
   ],
   "source": [
    "pip install typing-extensions --upgrade"
   ]
  },
  {
   "cell_type": "code",
   "execution_count": 3,
   "metadata": {},
   "outputs": [
    {
     "name": "stdout",
     "output_type": "stream",
     "text": [
      "Collecting typing_extensions==4.6.3\n",
      "  Using cached typing_extensions-4.6.3-py3-none-any.whl.metadata (2.8 kB)\n",
      "Using cached typing_extensions-4.6.3-py3-none-any.whl (31 kB)\n",
      "Installing collected packages: typing_extensions\n",
      "  Attempting uninstall: typing_extensions\n",
      "    Found existing installation: typing_extensions 4.8.0\n",
      "    Uninstalling typing_extensions-4.8.0:\n",
      "      Successfully uninstalled typing_extensions-4.8.0\n",
      "\u001b[31mERROR: pip's dependency resolver does not currently take into account all the packages that are installed. This behaviour is the source of the following dependency conflicts.\n",
      "fastapi 0.104.0 requires typing-extensions>=4.8.0, but you have typing-extensions 4.6.3 which is incompatible.\u001b[0m\u001b[31m\n",
      "\u001b[0mSuccessfully installed typing_extensions-4.6.3\n"
     ]
    }
   ],
   "source": [
    "! python -m pip install typing_extensions==4.6.3\n",
    "\n"
   ]
  }
 ],
 "metadata": {
  "kernelspec": {
   "display_name": "autogen-py311-env",
   "language": "python",
   "name": "python3"
  },
  "language_info": {
   "codemirror_mode": {
    "name": "ipython",
    "version": 3
   },
   "file_extension": ".py",
   "mimetype": "text/x-python",
   "name": "python",
   "nbconvert_exporter": "python",
   "pygments_lexer": "ipython3",
   "version": "3.11.0"
  }
 },
 "nbformat": 4,
 "nbformat_minor": 2
}
