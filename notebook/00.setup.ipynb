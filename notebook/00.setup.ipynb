{
 "cells": [
  {
   "cell_type": "code",
   "execution_count": null,
   "metadata": {},
   "outputs": [],
   "source": [
    "! conda create -n autogen-py311-env python==3.11\n",
    "\n",
    "! conda activate autogen-py311-env\n"
   ]
  },
  {
   "cell_type": "code",
   "execution_count": null,
   "metadata": {},
   "outputs": [],
   "source": [
    "# windows venv only\n",
    "\n",
    "# ! python -m venv autogen\n",
    "\n",
    "# ! python -m pip install jupyter\n",
    "\n",
    "# ! python -m pip install flaml\n",
    "\n",
    "# ! python -m pip install dotenv\n",
    "\n",
    "# ! python -m pip install python-dotenv\n",
    "\n",
    "! python -m pip install pandas"
   ]
  },
  {
   "cell_type": "code",
   "execution_count": null,
   "metadata": {},
   "outputs": [],
   "source": [
    "! python -m pip install numpy"
   ]
  },
  {
   "cell_type": "code",
   "execution_count": null,
   "metadata": {},
   "outputs": [],
   "source": [
    "# 临时切换环境生成 reference\n",
    "#! conda activate misc-py311-env\n",
    "\n",
    "! python -m pip install pydoc-markdown\n",
    "\n",
    "! cd website\n",
    "\n",
    "! pydoc-markdown\n"
   ]
  },
  {
   "cell_type": "code",
   "execution_count": 13,
   "metadata": {},
   "outputs": [
    {
     "name": "stdout",
     "output_type": "stream",
     "text": [
      "Requirement already satisfied: typing-extensions in d:\\mygithub\\autogen\\lib\\site-packages (4.6.3)Note: you may need to restart the kernel to use updated packages.\n",
      "\n",
      "Collecting typing-extensions\n",
      "  Downloading typing_extensions-4.8.0-py3-none-any.whl.metadata (3.0 kB)\n",
      "Downloading typing_extensions-4.8.0-py3-none-any.whl (31 kB)\n",
      "Installing collected packages: typing-extensions\n",
      "  Attempting uninstall: typing-extensions\n",
      "    Found existing installation: typing_extensions 4.6.3\n",
      "    Uninstalling typing_extensions-4.6.3:\n",
      "      Successfully uninstalled typing_extensions-4.6.3\n",
      "Successfully installed typing-extensions-4.8.0\n"
     ]
    }
   ],
   "source": [
    "pip install typing-extensions --upgrade"
   ]
  },
  {
   "cell_type": "code",
   "execution_count": 12,
   "metadata": {},
   "outputs": [
    {
     "name": "stdout",
     "output_type": "stream",
     "text": [
      "Collecting typing_extensions==4.6.3\n",
      "  Downloading typing_extensions-4.6.3-py3-none-any.whl.metadata (2.8 kB)\n",
      "Downloading typing_extensions-4.6.3-py3-none-any.whl (31 kB)\n",
      "Installing collected packages: typing_extensions\n",
      "Successfully installed typing_extensions-4.6.3\n"
     ]
    }
   ],
   "source": [
    "! python -m pip install typing_extensions==4.6.3\n",
    "\n"
   ]
  },
  {
   "cell_type": "code",
   "execution_count": null,
   "metadata": {},
   "outputs": [],
   "source": [
    "! python -m pip install autogen[oai]"
   ]
  },
  {
   "cell_type": "code",
   "execution_count": 11,
   "metadata": {},
   "outputs": [
    {
     "name": "stdout",
     "output_type": "stream",
     "text": [
      "Requirement already satisfied: openai in d:\\mygithub\\autogen\\lib\\site-packages (0.28.1)\n",
      "Requirement already satisfied: requests>=2.20 in d:\\mygithub\\autogen\\lib\\site-packages (from openai) (2.31.0)\n",
      "Requirement already satisfied: tqdm in d:\\mygithub\\autogen\\lib\\site-packages (from openai) (4.66.1)\n",
      "Requirement already satisfied: aiohttp in d:\\mygithub\\autogen\\lib\\site-packages (from openai) (3.8.6)\n",
      "Requirement already satisfied: charset-normalizer<4,>=2 in d:\\mygithub\\autogen\\lib\\site-packages (from requests>=2.20->openai) (3.3.1)\n",
      "Requirement already satisfied: idna<4,>=2.5 in d:\\mygithub\\autogen\\lib\\site-packages (from requests>=2.20->openai) (3.4)\n",
      "Requirement already satisfied: urllib3<3,>=1.21.1 in d:\\mygithub\\autogen\\lib\\site-packages (from requests>=2.20->openai) (2.0.7)\n",
      "Requirement already satisfied: certifi>=2017.4.17 in d:\\mygithub\\autogen\\lib\\site-packages (from requests>=2.20->openai) (2023.7.22)\n",
      "Requirement already satisfied: attrs>=17.3.0 in d:\\mygithub\\autogen\\lib\\site-packages (from aiohttp->openai) (23.1.0)\n",
      "Requirement already satisfied: multidict<7.0,>=4.5 in d:\\mygithub\\autogen\\lib\\site-packages (from aiohttp->openai) (6.0.4)\n",
      "Requirement already satisfied: async-timeout<5.0,>=4.0.0a3 in d:\\mygithub\\autogen\\lib\\site-packages (from aiohttp->openai) (4.0.3)\n",
      "Requirement already satisfied: yarl<2.0,>=1.0 in d:\\mygithub\\autogen\\lib\\site-packages (from aiohttp->openai) (1.9.2)\n",
      "Requirement already satisfied: frozenlist>=1.1.1 in d:\\mygithub\\autogen\\lib\\site-packages (from aiohttp->openai) (1.4.0)\n",
      "Requirement already satisfied: aiosignal>=1.1.2 in d:\\mygithub\\autogen\\lib\\site-packages (from aiohttp->openai) (1.3.1)\n",
      "Requirement already satisfied: colorama in d:\\mygithub\\autogen\\lib\\site-packages (from tqdm->openai) (0.4.6)\n",
      "Collecting diskcache\n",
      "  Downloading diskcache-5.6.3-py3-none-any.whl.metadata (20 kB)\n",
      "Downloading diskcache-5.6.3-py3-none-any.whl (45 kB)\n",
      "   ---------------------------------------- 0.0/45.5 kB ? eta -:--:--\n",
      "   ----------------------------------- ---- 41.0/45.5 kB 991.0 kB/s eta 0:00:01\n",
      "   ---------------------------------------- 45.5/45.5 kB 751.3 kB/s eta 0:00:00\n",
      "Installing collected packages: diskcache\n",
      "Successfully installed diskcache-5.6.3\n"
     ]
    },
    {
     "name": "stderr",
     "output_type": "stream",
     "text": [
      "ERROR: pip's dependency resolver does not currently take into account all the packages that are installed. This behaviour is the source of the following dependency conflicts.\n",
      "pyautogen 0.1.14 requires termcolor, which is not installed.\n"
     ]
    }
   ],
   "source": [
    "! python -m pip install openai\n",
    "\n",
    "! python -m pip install diskcache "
   ]
  }
 ],
 "metadata": {
  "kernelspec": {
   "display_name": "autogen-py311-env",
   "language": "python",
   "name": "python3"
  },
  "language_info": {
   "codemirror_mode": {
    "name": "ipython",
    "version": 3
   },
   "file_extension": ".py",
   "mimetype": "text/x-python",
   "name": "python",
   "nbconvert_exporter": "python",
   "pygments_lexer": "ipython3",
   "version": "3.11.4"
  }
 },
 "nbformat": 4,
 "nbformat_minor": 2
}
